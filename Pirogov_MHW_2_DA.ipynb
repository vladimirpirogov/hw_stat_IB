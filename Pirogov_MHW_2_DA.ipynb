{
 "cells": [
  {
   "cell_type": "markdown",
   "metadata": {},
   "source": [
    "Модульная домашняя работа №2, анализ данных\n",
    "=======\n",
    "\n",
    "Вариант 8"
   ]
  },
  {
   "cell_type": "code",
   "execution_count": 116,
   "metadata": {},
   "outputs": [],
   "source": [
    "import numpy as np\n",
    "import pandas as pd\n",
    "import seaborn as sns"
   ]
  },
  {
   "cell_type": "code",
   "execution_count": 117,
   "metadata": {},
   "outputs": [],
   "source": [
    "#  Задаем рабочую папку\n",
    "import os\n",
    "os.chdir(\"/Users/adminadministrator/Documents/Институт биоинформатики/статистика/часть 2/Модульное дз 2\")\n"
   ]
  },
  {
   "cell_type": "code",
   "execution_count": 118,
   "metadata": {},
   "outputs": [],
   "source": [
    "df = pd.read_csv('data_8.csv', index_col=0, sep = ';')"
   ]
  },
  {
   "cell_type": "markdown",
   "metadata": {},
   "source": [
    "Убедимся, что с самими данными всё хорошо."
   ]
  },
  {
   "cell_type": "code",
   "execution_count": 119,
   "metadata": {
    "scrolled": true
   },
   "outputs": [
    {
     "data": {
      "text/html": [
       "<div>\n",
       "<style scoped>\n",
       "    .dataframe tbody tr th:only-of-type {\n",
       "        vertical-align: middle;\n",
       "    }\n",
       "\n",
       "    .dataframe tbody tr th {\n",
       "        vertical-align: top;\n",
       "    }\n",
       "\n",
       "    .dataframe thead th {\n",
       "        text-align: right;\n",
       "    }\n",
       "</style>\n",
       "<table border=\"1\" class=\"dataframe\">\n",
       "  <thead>\n",
       "    <tr style=\"text-align: right;\">\n",
       "      <th></th>\n",
       "      <th>section</th>\n",
       "      <th>subsection</th>\n",
       "      <th>title</th>\n",
       "      <th>description</th>\n",
       "      <th>start</th>\n",
       "      <th>stop</th>\n",
       "      <th>address</th>\n",
       "      <th>participants</th>\n",
       "    </tr>\n",
       "  </thead>\n",
       "  <tbody>\n",
       "    <tr>\n",
       "      <th>1</th>\n",
       "      <td>Авиамодельный спорт</td>\n",
       "      <td>Основной состав</td>\n",
       "      <td>Кубок россии</td>\n",
       "      <td>кордовые модели воздушного боя F-2D  этап</td>\n",
       "      <td>2008-01-18</td>\n",
       "      <td>2008-01-20</td>\n",
       "      <td>Россия, Тульская обл.    Алексин</td>\n",
       "      <td>40.0</td>\n",
       "    </tr>\n",
       "    <tr>\n",
       "      <th>2</th>\n",
       "      <td>Авиамодельный спорт</td>\n",
       "      <td>Основной состав</td>\n",
       "      <td>Кубок россии</td>\n",
       "      <td>кордовые модели воздушного боя F-2D  этап</td>\n",
       "      <td>2008-02-08</td>\n",
       "      <td>2008-02-10</td>\n",
       "      <td>Россия, Приморский край    Владивосток</td>\n",
       "      <td>30.0</td>\n",
       "    </tr>\n",
       "    <tr>\n",
       "      <th>3</th>\n",
       "      <td>Авиамодельный спорт</td>\n",
       "      <td>Основной состав</td>\n",
       "      <td>Кубок россии</td>\n",
       "      <td>кордовые модели воздушногобоя F2D   этап</td>\n",
       "      <td>2008-02-22</td>\n",
       "      <td>2008-02-24</td>\n",
       "      <td>Россия, Тульская обл.    Алексин</td>\n",
       "      <td>50.0</td>\n",
       "    </tr>\n",
       "    <tr>\n",
       "      <th>4</th>\n",
       "      <td>Авиамодельный спорт</td>\n",
       "      <td>Основной состав</td>\n",
       "      <td>Кубок россии</td>\n",
       "      <td>кордовые модели воздушного боя F-2D  этап</td>\n",
       "      <td>2008-02-22</td>\n",
       "      <td>2008-02-24</td>\n",
       "      <td>Россия, Свердловская обл.    Екатеринбург</td>\n",
       "      <td>100.0</td>\n",
       "    </tr>\n",
       "    <tr>\n",
       "      <th>5</th>\n",
       "      <td>Авиамодельный спорт</td>\n",
       "      <td>Основной состав</td>\n",
       "      <td>Кубок россии</td>\n",
       "      <td>кордовые модели воздушногобоя F2D   этап</td>\n",
       "      <td>2008-03-01</td>\n",
       "      <td>2008-03-02</td>\n",
       "      <td>Россия, Пермская обл.    Пермь</td>\n",
       "      <td>40.0</td>\n",
       "    </tr>\n",
       "    <tr>\n",
       "      <th>6</th>\n",
       "      <td>Авиамодельный спорт</td>\n",
       "      <td>Основной состав</td>\n",
       "      <td>Кубок россии</td>\n",
       "      <td>кордовые модели воздушного боя F-2D  этап</td>\n",
       "      <td>2008-03-07</td>\n",
       "      <td>2008-03-09</td>\n",
       "      <td>Россия, Пензенская обл.    Пенза</td>\n",
       "      <td>50.0</td>\n",
       "    </tr>\n",
       "    <tr>\n",
       "      <th>7</th>\n",
       "      <td>Авиамодельный спорт</td>\n",
       "      <td>Основной состав</td>\n",
       "      <td>Кубок россии</td>\n",
       "      <td>кордовые модели воздушного боя F-2D  этап</td>\n",
       "      <td>2008-03-14</td>\n",
       "      <td>2008-03-16</td>\n",
       "      <td>Россия, Челябинская обл.    Челябинск</td>\n",
       "      <td>100.0</td>\n",
       "    </tr>\n",
       "    <tr>\n",
       "      <th>8</th>\n",
       "      <td>Авиамодельный спорт</td>\n",
       "      <td>Основной состав</td>\n",
       "      <td>Учебно-тренировочный сбор</td>\n",
       "      <td>свободнолетающие модели F-1A,B,C</td>\n",
       "      <td>2008-03-20</td>\n",
       "      <td>2008-04-03</td>\n",
       "      <td>Россия, Кабардино-Балкарская Респ.    Нальчик</td>\n",
       "      <td>20.0</td>\n",
       "    </tr>\n",
       "  </tbody>\n",
       "</table>\n",
       "</div>"
      ],
      "text/plain": [
       "               section       subsection                      title  \\\n",
       "1  Авиамодельный спорт  Основной состав               Кубок россии   \n",
       "2  Авиамодельный спорт  Основной состав               Кубок россии   \n",
       "3  Авиамодельный спорт  Основной состав               Кубок россии   \n",
       "4  Авиамодельный спорт  Основной состав               Кубок россии   \n",
       "5  Авиамодельный спорт  Основной состав               Кубок россии   \n",
       "6  Авиамодельный спорт  Основной состав               Кубок россии   \n",
       "7  Авиамодельный спорт  Основной состав               Кубок россии   \n",
       "8  Авиамодельный спорт  Основной состав  Учебно-тренировочный сбор   \n",
       "\n",
       "                                 description       start        stop  \\\n",
       "1  кордовые модели воздушного боя F-2D  этап  2008-01-18  2008-01-20   \n",
       "2  кордовые модели воздушного боя F-2D  этап  2008-02-08  2008-02-10   \n",
       "3   кордовые модели воздушногобоя F2D   этап  2008-02-22  2008-02-24   \n",
       "4  кордовые модели воздушного боя F-2D  этап  2008-02-22  2008-02-24   \n",
       "5   кордовые модели воздушногобоя F2D   этап  2008-03-01  2008-03-02   \n",
       "6  кордовые модели воздушного боя F-2D  этап  2008-03-07  2008-03-09   \n",
       "7  кордовые модели воздушного боя F-2D  этап  2008-03-14  2008-03-16   \n",
       "8           свободнолетающие модели F-1A,B,C  2008-03-20  2008-04-03   \n",
       "\n",
       "                                         address  participants  \n",
       "1               Россия, Тульская обл.    Алексин          40.0  \n",
       "2         Россия, Приморский край    Владивосток          30.0  \n",
       "3               Россия, Тульская обл.    Алексин          50.0  \n",
       "4      Россия, Свердловская обл.    Екатеринбург         100.0  \n",
       "5                 Россия, Пермская обл.    Пермь          40.0  \n",
       "6               Россия, Пензенская обл.    Пенза          50.0  \n",
       "7          Россия, Челябинская обл.    Челябинск         100.0  \n",
       "8  Россия, Кабардино-Балкарская Респ.    Нальчик          20.0  "
      ]
     },
     "execution_count": 119,
     "metadata": {},
     "output_type": "execute_result"
    }
   ],
   "source": [
    "df.head(8)"
   ]
  },
  {
   "cell_type": "code",
   "execution_count": 120,
   "metadata": {},
   "outputs": [
    {
     "data": {
      "text/plain": [
       "section          object\n",
       "subsection       object\n",
       "title            object\n",
       "description      object\n",
       "start            object\n",
       "stop             object\n",
       "address          object\n",
       "participants    float64\n",
       "dtype: object"
      ]
     },
     "execution_count": 120,
     "metadata": {},
     "output_type": "execute_result"
    }
   ],
   "source": [
    "df.dtypes"
   ]
  },
  {
   "cell_type": "code",
   "execution_count": 121,
   "metadata": {},
   "outputs": [
    {
     "data": {
      "text/html": [
       "<div>\n",
       "<style scoped>\n",
       "    .dataframe tbody tr th:only-of-type {\n",
       "        vertical-align: middle;\n",
       "    }\n",
       "\n",
       "    .dataframe tbody tr th {\n",
       "        vertical-align: top;\n",
       "    }\n",
       "\n",
       "    .dataframe thead th {\n",
       "        text-align: right;\n",
       "    }\n",
       "</style>\n",
       "<table border=\"1\" class=\"dataframe\">\n",
       "  <thead>\n",
       "    <tr style=\"text-align: right;\">\n",
       "      <th></th>\n",
       "      <th>participants</th>\n",
       "    </tr>\n",
       "  </thead>\n",
       "  <tbody>\n",
       "    <tr>\n",
       "      <th>count</th>\n",
       "      <td>76576.000000</td>\n",
       "    </tr>\n",
       "    <tr>\n",
       "      <th>mean</th>\n",
       "      <td>118.916880</td>\n",
       "    </tr>\n",
       "    <tr>\n",
       "      <th>std</th>\n",
       "      <td>499.736802</td>\n",
       "    </tr>\n",
       "    <tr>\n",
       "      <th>min</th>\n",
       "      <td>0.000000</td>\n",
       "    </tr>\n",
       "    <tr>\n",
       "      <th>25%</th>\n",
       "      <td>16.000000</td>\n",
       "    </tr>\n",
       "    <tr>\n",
       "      <th>50%</th>\n",
       "      <td>34.000000</td>\n",
       "    </tr>\n",
       "    <tr>\n",
       "      <th>75%</th>\n",
       "      <td>130.000000</td>\n",
       "    </tr>\n",
       "    <tr>\n",
       "      <th>max</th>\n",
       "      <td>45000.000000</td>\n",
       "    </tr>\n",
       "  </tbody>\n",
       "</table>\n",
       "</div>"
      ],
      "text/plain": [
       "       participants\n",
       "count  76576.000000\n",
       "mean     118.916880\n",
       "std      499.736802\n",
       "min        0.000000\n",
       "25%       16.000000\n",
       "50%       34.000000\n",
       "75%      130.000000\n",
       "max    45000.000000"
      ]
     },
     "execution_count": 121,
     "metadata": {},
     "output_type": "execute_result"
    }
   ],
   "source": [
    "df.describe()"
   ]
  },
  {
   "cell_type": "markdown",
   "metadata": {},
   "source": [
    "#### Количество участников и виды деятельности"
   ]
  },
  {
   "cell_type": "markdown",
   "metadata": {},
   "source": [
    "Как мы можем видеть по данным есть только одна числовая колонка. Посмотрим на неё"
   ]
  },
  {
   "cell_type": "code",
   "execution_count": 122,
   "metadata": {},
   "outputs": [
    {
     "name": "stderr",
     "output_type": "stream",
     "text": [
      "/Library/Frameworks/Python.framework/Versions/3.8/lib/python3.8/site-packages/seaborn/distributions.py:2557: FutureWarning: `distplot` is a deprecated function and will be removed in a future version. Please adapt your code to use either `displot` (a figure-level function with similar flexibility) or `histplot` (an axes-level function for histograms).\n",
      "  warnings.warn(msg, FutureWarning)\n"
     ]
    },
    {
     "data": {
      "text/plain": [
       "<AxesSubplot:xlabel='participants', ylabel='Density'>"
      ]
     },
     "execution_count": 122,
     "metadata": {},
     "output_type": "execute_result"
    },
    {
     "data": {
      "image/png": "[encoded data removed]",
      "text/plain": [
       "<Figure size 432x288 with 1 Axes>"
      ]
     },
     "metadata": {
      "needs_background": "light"
     },
     "output_type": "display_data"
    }
   ],
   "source": [
    "sns.distplot(df['participants'])"
   ]
  },
  {
   "cell_type": "code",
   "execution_count": 123,
   "metadata": {},
   "outputs": [
    {
     "data": {
      "image/png": "[encoded data removed]",
      "text/plain": [
       "<Figure size 432x288 with 1 Axes>"
      ]
     },
     "metadata": {
      "needs_background": "light"
     },
     "output_type": "display_data"
    }
   ],
   "source": [
    "sns.boxplot(x=\"section\", y=\"participants\", data=df, palette='rainbow');"
   ]
  },
  {
   "cell_type": "markdown",
   "metadata": {},
   "source": [
    "Получили бред. Будем думать дальше. Посмотри на количество секций"
   ]
  },
  {
   "cell_type": "code",
   "execution_count": 124,
   "metadata": {},
   "outputs": [
    {
     "data": {
      "text/plain": [
       "Автомобильный спорт                                          2787\n",
       "Спорт лиц с поражением ОДА                                   2469\n",
       "Фехтование                                                   2253\n",
       "Мотоциклетный спорт                                          2025\n",
       "Дзюдо                                                        2022\n",
       "                                                             ... \n",
       "Мас-рестлинг                                                    3\n",
       "этап_заключительный                                             3\n",
       "Перетягивание каната                                            3\n",
       "групповая, акробатика, двоеборье, акробатика групповая 2,       1\n",
       "радиоориентирование, спортивная радиопеленгация - спринт        1\n",
       "Name: section, Length: 173, dtype: int64"
      ]
     },
     "execution_count": 124,
     "metadata": {},
     "output_type": "execute_result"
    }
   ],
   "source": [
    "df['section'].value_counts()"
   ]
  },
  {
   "cell_type": "code",
   "execution_count": 125,
   "metadata": {},
   "outputs": [
    {
     "name": "stderr",
     "output_type": "stream",
     "text": [
      "/Library/Frameworks/Python.framework/Versions/3.8/lib/python3.8/site-packages/seaborn/distributions.py:2557: FutureWarning: `distplot` is a deprecated function and will be removed in a future version. Please adapt your code to use either `displot` (a figure-level function with similar flexibility) or `histplot` (an axes-level function for histograms).\n",
      "  warnings.warn(msg, FutureWarning)\n"
     ]
    },
    {
     "data": {
      "text/plain": [
       "<AxesSubplot:xlabel='section'>"
      ]
     },
     "execution_count": 125,
     "metadata": {},
     "output_type": "execute_result"
    },
    {
     "data": {
      "image/png": "[encoded data removed]",
      "text/plain": [
       "<Figure size 432x288 with 1 Axes>"
      ]
     },
     "metadata": {
      "needs_background": "light"
     },
     "output_type": "display_data"
    }
   ],
   "source": [
    "sns.distplot(df['section'].value_counts(), kde=False)"
   ]
  },
  {
   "cell_type": "markdown",
   "metadata": {},
   "source": [
    "Мы наблюдаем, что есть много секций, по которым проводится малое количество мероприятий. Рассмотрим только те, у которых количество мероприятий больше 1500. Посмотрим на количество участников данных типах мероприятий. "
   ]
  },
  {
   "cell_type": "code",
   "execution_count": 126,
   "metadata": {},
   "outputs": [
    {
     "data": {
      "text/plain": [
       "Автомобильный спорт           2787\n",
       "Спорт лиц с поражением ОДА    2469\n",
       "Фехтование                    2253\n",
       "Мотоциклетный спорт           2025\n",
       "Дзюдо                         2022\n",
       "Теннис                        1770\n",
       "Велоспорт-шоссе               1561\n",
       "Легкая атлетика               1511\n",
       "Name: section, dtype: int64"
      ]
     },
     "execution_count": 126,
     "metadata": {},
     "output_type": "execute_result"
    }
   ],
   "source": [
    "df['section'].value_counts()[df['section'].value_counts() > 1500]"
   ]
  },
  {
   "cell_type": "code",
   "execution_count": 127,
   "metadata": {},
   "outputs": [],
   "source": [
    "sub_df_1 = df[df['section'] == 'Автомобильный спорт']\n",
    "sub_df_2 = df[df['section'] == 'Фехтование']\n",
    "sub_df_3 = df[df['section'] == 'Спорт лиц с поражением ОДА']\n",
    "sub_df_4 = df[df['section'] == 'Мотоциклетный спорт']\n",
    "sub_df_5 = df[df['section'] == 'Дзюдо']\n",
    "sub_df_6 = df[df['section'] == 'Теннис']\n",
    "sub_df_7 = df[df['section'] == 'Велоспорт-шоссе']\n",
    "sub_df_8 = df[df['section'] == 'Легкая атлетика']"
   ]
  },
  {
   "cell_type": "code",
   "execution_count": 128,
   "metadata": {},
   "outputs": [],
   "source": [
    "sub_df = pd.concat([sub_df_1, sub_df_2, sub_df_3, sub_df_4, sub_df_5, sub_df_6, sub_df_7, sub_df_8])"
   ]
  },
  {
   "cell_type": "code",
   "execution_count": 129,
   "metadata": {},
   "outputs": [
    {
     "data": {
      "image/png": "[encoded data removed]",
      "text/plain": [
       "<Figure size 432x288 with 1 Axes>"
      ]
     },
     "metadata": {
      "needs_background": "light"
     },
     "output_type": "display_data"
    }
   ],
   "source": [
    "sns.boxplot(x=\"section\", y=\"participants\", data=sub_df, palette='rainbow');"
   ]
  },
  {
   "cell_type": "markdown",
   "metadata": {},
   "source": [
    "#### Посмотрим на места проведения мероприятий. "
   ]
  },
  {
   "cell_type": "code",
   "execution_count": 130,
   "metadata": {},
   "outputs": [
    {
     "data": {
      "text/plain": [
       "Россия, Москва    Москва, -                              3623\n",
       "Россия, по назначению, -                                 3607\n",
       "Россия, Московская обл.    Новогорск, УТЦ \"Новогорск\"    2762\n",
       "Россия, Московская обл.    Лобня, РОЦ \"Оз. Круглое\"      1730\n",
       "Россия, Санкт-Петербург    Санкт-Петербург, -            1353\n",
       "                                                         ... \n",
       "Австрия Финляндия Норвегия Италия, -, -                     1\n",
       "Финляндия Норвегия Швейцария Словения, -, -                 1\n",
       "Польша Украина, -, -                                        1\n",
       "Дания Италия Страны Европы, -, -                            1\n",
       "Россия, Московская обл.    Реутов, -                        1\n",
       "Name: address, Length: 2488, dtype: int64"
      ]
     },
     "execution_count": 130,
     "metadata": {},
     "output_type": "execute_result"
    }
   ],
   "source": [
    "df['address'].value_counts()"
   ]
  },
  {
   "cell_type": "markdown",
   "metadata": {},
   "source": [
    "Посмотрим на типы данных. Для проверки корректности прочтения (а то вдруг как строка считались числа)"
   ]
  },
  {
   "cell_type": "code",
   "execution_count": 131,
   "metadata": {},
   "outputs": [
    {
     "name": "stderr",
     "output_type": "stream",
     "text": [
      "/Library/Frameworks/Python.framework/Versions/3.8/lib/python3.8/site-packages/seaborn/distributions.py:2557: FutureWarning: `distplot` is a deprecated function and will be removed in a future version. Please adapt your code to use either `displot` (a figure-level function with similar flexibility) or `histplot` (an axes-level function for histograms).\n",
      "  warnings.warn(msg, FutureWarning)\n"
     ]
    },
    {
     "data": {
      "text/plain": [
       "<AxesSubplot:xlabel='address'>"
      ]
     },
     "execution_count": 131,
     "metadata": {},
     "output_type": "execute_result"
    },
    {
     "data": {
      "image/png": "[encoded data removed]",
      "text/plain": [
       "<Figure size 432x288 with 1 Axes>"
      ]
     },
     "metadata": {
      "needs_background": "light"
     },
     "output_type": "display_data"
    }
   ],
   "source": [
    "sns.distplot(df['address'].value_counts(), kde=False)"
   ]
  },
  {
   "cell_type": "markdown",
   "metadata": {},
   "source": [
    "Как видно большинство событий не проходит в одних местах часто. Поэтому посмотрим на самые популярные"
   ]
  },
  {
   "cell_type": "code",
   "execution_count": 132,
   "metadata": {},
   "outputs": [
    {
     "data": {
      "text/plain": [
       "Россия, Москва    Москва, -                              3623\n",
       "Россия, по назначению, -                                 3607\n",
       "Россия, Московская обл.    Новогорск, УТЦ \"Новогорск\"    2762\n",
       "Россия, Московская обл.    Лобня, РОЦ \"Оз. Круглое\"      1730\n",
       "Россия, Санкт-Петербург    Санкт-Петербург, -            1353\n",
       "Россия, Москва, -                                        1328\n",
       "Италия, -, -                                             1189\n",
       "Германия, -, -                                           1145\n",
       "Name: address, dtype: int64"
      ]
     },
     "execution_count": 132,
     "metadata": {},
     "output_type": "execute_result"
    }
   ],
   "source": [
    "df['address'].value_counts()[df['address'].value_counts() > 1000]"
   ]
  },
  {
   "cell_type": "markdown",
   "metadata": {},
   "source": [
    "Посмотрим распеделение количества участников по мероприятиям"
   ]
  },
  {
   "cell_type": "code",
   "execution_count": 187,
   "metadata": {},
   "outputs": [],
   "source": [
    "list_sp = ['Россия, Москва    Москва, -', 'Россия, по назначению, -', 'Россия, Московская обл.    Новогорск, УТЦ \"Новогорск\"', 'Россия, Московская обл.    Лобня, РОЦ \"Оз. Круглое\"', 'Россия, Санкт-Петербург    Санкт-Петербург, -', 'Россия, Москва, -', 'Италия, -, -', 'Германия, -, -'] "
   ]
  },
  {
   "cell_type": "code",
   "execution_count": 188,
   "metadata": {},
   "outputs": [],
   "source": [
    "sub_df_1 = df[df['address'] == 'Россия, Москва    Москва, -']\n",
    "sub_df_2 = df[df['address'] == 'Россия, по назначению, -']\n",
    "sub_df_3 = df[df['address'] == 'Россия, Московская обл.    Новогорск, УТЦ \"Новогорск\"']\n",
    "sub_df_4 = df[df['address'] == 'Россия, Московская обл.    Лобня, РОЦ \"Оз. Круглое\"']\n",
    "sub_df_5 = df[df['address'] == 'Россия, Санкт-Петербург    Санкт-Петербург, -']\n",
    "sub_df_6 = df[df['address'] == 'Россия, Москва, -']\n",
    "sub_df_7 = df[df['address'] == 'Италия, -, -']\n",
    "sub_df_8 = df[df['address'] == 'Германия, -, -']\n",
    "sub_df = pd.concat([sub_df_1, sub_df_2, sub_df_3, sub_df_4, sub_df_5, sub_df_6, sub_df_7, sub_df_8])"
   ]
  },
  {
   "cell_type": "code",
   "execution_count": 189,
   "metadata": {},
   "outputs": [
    {
     "data": {
      "image/png": "[encoded data removed]",
      "text/plain": [
       "<Figure size 432x288 with 1 Axes>"
      ]
     },
     "metadata": {
      "needs_background": "light"
     },
     "output_type": "display_data"
    }
   ],
   "source": [
    "sns.boxplot(x=\"address\", y=\"participants\", data=sub_df, palette='rainbow');"
   ]
  },
  {
   "cell_type": "markdown",
   "metadata": {},
   "source": [
    "Мы видим, что в Москве есть площадки на которых можно проводить действительно большие мероприятия. Удивляет, что есть огромное число выбросов, которое автор объяснить не может"
   ]
  },
  {
   "cell_type": "code",
   "execution_count": 193,
   "metadata": {},
   "outputs": [
    {
     "data": {
      "text/html": [
       "<div>\n",
       "<style scoped>\n",
       "    .dataframe tbody tr th:only-of-type {\n",
       "        vertical-align: middle;\n",
       "    }\n",
       "\n",
       "    .dataframe tbody tr th {\n",
       "        vertical-align: top;\n",
       "    }\n",
       "\n",
       "    .dataframe thead th {\n",
       "        text-align: right;\n",
       "    }\n",
       "</style>\n",
       "<table border=\"1\" class=\"dataframe\">\n",
       "  <thead>\n",
       "    <tr style=\"text-align: right;\">\n",
       "      <th>address</th>\n",
       "      <th>Германия, -, -</th>\n",
       "      <th>Италия, -, -</th>\n",
       "      <th>Россия, Москва    Москва, -</th>\n",
       "      <th>Россия, Москва, -</th>\n",
       "      <th>Россия, Московская обл.    Лобня, РОЦ \"Оз. Круглое\"</th>\n",
       "      <th>Россия, Московская обл.    Новогорск, УТЦ \"Новогорск\"</th>\n",
       "      <th>Россия, Санкт-Петербург    Санкт-Петербург, -</th>\n",
       "      <th>Россия, по назначению, -</th>\n",
       "      <th>sum</th>\n",
       "    </tr>\n",
       "    <tr>\n",
       "      <th>section</th>\n",
       "      <th></th>\n",
       "      <th></th>\n",
       "      <th></th>\n",
       "      <th></th>\n",
       "      <th></th>\n",
       "      <th></th>\n",
       "      <th></th>\n",
       "      <th></th>\n",
       "      <th></th>\n",
       "    </tr>\n",
       "  </thead>\n",
       "  <tbody>\n",
       "    <tr>\n",
       "      <th>Автомобильный спорт</th>\n",
       "      <td>37</td>\n",
       "      <td>34</td>\n",
       "      <td>23</td>\n",
       "      <td>2</td>\n",
       "      <td>0</td>\n",
       "      <td>0</td>\n",
       "      <td>23</td>\n",
       "      <td>241</td>\n",
       "      <td>360</td>\n",
       "    </tr>\n",
       "    <tr>\n",
       "      <th>Баскетбол</th>\n",
       "      <td>3</td>\n",
       "      <td>20</td>\n",
       "      <td>120</td>\n",
       "      <td>43</td>\n",
       "      <td>0</td>\n",
       "      <td>146</td>\n",
       "      <td>12</td>\n",
       "      <td>194</td>\n",
       "      <td>538</td>\n",
       "    </tr>\n",
       "    <tr>\n",
       "      <th>Волейбол</th>\n",
       "      <td>11</td>\n",
       "      <td>23</td>\n",
       "      <td>84</td>\n",
       "      <td>40</td>\n",
       "      <td>0</td>\n",
       "      <td>129</td>\n",
       "      <td>0</td>\n",
       "      <td>159</td>\n",
       "      <td>446</td>\n",
       "    </tr>\n",
       "    <tr>\n",
       "      <th>Конный спорт</th>\n",
       "      <td>120</td>\n",
       "      <td>18</td>\n",
       "      <td>52</td>\n",
       "      <td>24</td>\n",
       "      <td>0</td>\n",
       "      <td>0</td>\n",
       "      <td>5</td>\n",
       "      <td>87</td>\n",
       "      <td>306</td>\n",
       "    </tr>\n",
       "    <tr>\n",
       "      <th>Плавание</th>\n",
       "      <td>1</td>\n",
       "      <td>38</td>\n",
       "      <td>11</td>\n",
       "      <td>5</td>\n",
       "      <td>213</td>\n",
       "      <td>0</td>\n",
       "      <td>10</td>\n",
       "      <td>34</td>\n",
       "      <td>312</td>\n",
       "    </tr>\n",
       "    <tr>\n",
       "      <th>Спорт лиц с поражением ОДА</th>\n",
       "      <td>64</td>\n",
       "      <td>49</td>\n",
       "      <td>215</td>\n",
       "      <td>57</td>\n",
       "      <td>55</td>\n",
       "      <td>36</td>\n",
       "      <td>30</td>\n",
       "      <td>27</td>\n",
       "      <td>533</td>\n",
       "    </tr>\n",
       "    <tr>\n",
       "      <th>Спортивная гимнастика</th>\n",
       "      <td>11</td>\n",
       "      <td>9</td>\n",
       "      <td>9</td>\n",
       "      <td>5</td>\n",
       "      <td>253</td>\n",
       "      <td>0</td>\n",
       "      <td>4</td>\n",
       "      <td>19</td>\n",
       "      <td>310</td>\n",
       "    </tr>\n",
       "    <tr>\n",
       "      <th>Теннис</th>\n",
       "      <td>14</td>\n",
       "      <td>58</td>\n",
       "      <td>221</td>\n",
       "      <td>77</td>\n",
       "      <td>0</td>\n",
       "      <td>0</td>\n",
       "      <td>15</td>\n",
       "      <td>34</td>\n",
       "      <td>419</td>\n",
       "    </tr>\n",
       "    <tr>\n",
       "      <th>Фехтование</th>\n",
       "      <td>73</td>\n",
       "      <td>60</td>\n",
       "      <td>54</td>\n",
       "      <td>13</td>\n",
       "      <td>685</td>\n",
       "      <td>316</td>\n",
       "      <td>20</td>\n",
       "      <td>32</td>\n",
       "      <td>1253</td>\n",
       "    </tr>\n",
       "    <tr>\n",
       "      <th>Фигурное катание на коньках</th>\n",
       "      <td>17</td>\n",
       "      <td>19</td>\n",
       "      <td>29</td>\n",
       "      <td>6</td>\n",
       "      <td>0</td>\n",
       "      <td>215</td>\n",
       "      <td>15</td>\n",
       "      <td>14</td>\n",
       "      <td>315</td>\n",
       "    </tr>\n",
       "    <tr>\n",
       "      <th>Футбол</th>\n",
       "      <td>9</td>\n",
       "      <td>18</td>\n",
       "      <td>90</td>\n",
       "      <td>22</td>\n",
       "      <td>0</td>\n",
       "      <td>107</td>\n",
       "      <td>25</td>\n",
       "      <td>351</td>\n",
       "      <td>622</td>\n",
       "    </tr>\n",
       "    <tr>\n",
       "      <th>Хоккей</th>\n",
       "      <td>20</td>\n",
       "      <td>3</td>\n",
       "      <td>3</td>\n",
       "      <td>3</td>\n",
       "      <td>0</td>\n",
       "      <td>379</td>\n",
       "      <td>6</td>\n",
       "      <td>169</td>\n",
       "      <td>583</td>\n",
       "    </tr>\n",
       "    <tr>\n",
       "      <th>Художественная гимнастика</th>\n",
       "      <td>14</td>\n",
       "      <td>11</td>\n",
       "      <td>18</td>\n",
       "      <td>8</td>\n",
       "      <td>0</td>\n",
       "      <td>378</td>\n",
       "      <td>52</td>\n",
       "      <td>15</td>\n",
       "      <td>496</td>\n",
       "    </tr>\n",
       "  </tbody>\n",
       "</table>\n",
       "</div>"
      ],
      "text/plain": [
       "address                      Германия, -, -  Италия, -, -  \\\n",
       "section                                                     \n",
       "Автомобильный спорт                      37            34   \n",
       "Баскетбол                                 3            20   \n",
       "Волейбол                                 11            23   \n",
       "Конный спорт                            120            18   \n",
       "Плавание                                  1            38   \n",
       "Спорт лиц с поражением ОДА               64            49   \n",
       "Спортивная гимнастика                    11             9   \n",
       "Теннис                                   14            58   \n",
       "Фехтование                               73            60   \n",
       "Фигурное катание на коньках              17            19   \n",
       "Футбол                                    9            18   \n",
       "Хоккей                                   20             3   \n",
       "Художественная гимнастика                14            11   \n",
       "\n",
       "address                      Россия, Москва    Москва, -  Россия, Москва, -  \\\n",
       "section                                                                       \n",
       "Автомобильный спорт                                   23                  2   \n",
       "Баскетбол                                            120                 43   \n",
       "Волейбол                                              84                 40   \n",
       "Конный спорт                                          52                 24   \n",
       "Плавание                                              11                  5   \n",
       "Спорт лиц с поражением ОДА                           215                 57   \n",
       "Спортивная гимнастика                                  9                  5   \n",
       "Теннис                                               221                 77   \n",
       "Фехтование                                            54                 13   \n",
       "Фигурное катание на коньках                           29                  6   \n",
       "Футбол                                                90                 22   \n",
       "Хоккей                                                 3                  3   \n",
       "Художественная гимнастика                             18                  8   \n",
       "\n",
       "address                      Россия, Московская обл.    Лобня, РОЦ \"Оз. Круглое\"  \\\n",
       "section                                                                            \n",
       "Автомобильный спорт                                                          0     \n",
       "Баскетбол                                                                    0     \n",
       "Волейбол                                                                     0     \n",
       "Конный спорт                                                                 0     \n",
       "Плавание                                                                   213     \n",
       "Спорт лиц с поражением ОДА                                                  55     \n",
       "Спортивная гимнастика                                                      253     \n",
       "Теннис                                                                       0     \n",
       "Фехтование                                                                 685     \n",
       "Фигурное катание на коньках                                                  0     \n",
       "Футбол                                                                       0     \n",
       "Хоккей                                                                       0     \n",
       "Художественная гимнастика                                                    0     \n",
       "\n",
       "address                      Россия, Московская обл.    Новогорск, УТЦ \"Новогорск\"  \\\n",
       "section                                                                              \n",
       "Автомобильный спорт                                                          0       \n",
       "Баскетбол                                                                  146       \n",
       "Волейбол                                                                   129       \n",
       "Конный спорт                                                                 0       \n",
       "Плавание                                                                     0       \n",
       "Спорт лиц с поражением ОДА                                                  36       \n",
       "Спортивная гимнастика                                                        0       \n",
       "Теннис                                                                       0       \n",
       "Фехтование                                                                 316       \n",
       "Фигурное катание на коньках                                                215       \n",
       "Футбол                                                                     107       \n",
       "Хоккей                                                                     379       \n",
       "Художественная гимнастика                                                  378       \n",
       "\n",
       "address                      Россия, Санкт-Петербург    Санкт-Петербург, -  \\\n",
       "section                                                                      \n",
       "Автомобильный спорт                                                     23   \n",
       "Баскетбол                                                               12   \n",
       "Волейбол                                                                 0   \n",
       "Конный спорт                                                             5   \n",
       "Плавание                                                                10   \n",
       "Спорт лиц с поражением ОДА                                              30   \n",
       "Спортивная гимнастика                                                    4   \n",
       "Теннис                                                                  15   \n",
       "Фехтование                                                              20   \n",
       "Фигурное катание на коньках                                             15   \n",
       "Футбол                                                                  25   \n",
       "Хоккей                                                                   6   \n",
       "Художественная гимнастика                                               52   \n",
       "\n",
       "address                      Россия, по назначению, -   sum  \n",
       "section                                                      \n",
       "Автомобильный спорт                               241   360  \n",
       "Баскетбол                                         194   538  \n",
       "Волейбол                                          159   446  \n",
       "Конный спорт                                       87   306  \n",
       "Плавание                                           34   312  \n",
       "Спорт лиц с поражением ОДА                         27   533  \n",
       "Спортивная гимнастика                              19   310  \n",
       "Теннис                                             34   419  \n",
       "Фехтование                                         32  1253  \n",
       "Фигурное катание на коньках                        14   315  \n",
       "Футбол                                            351   622  \n",
       "Хоккей                                            169   583  \n",
       "Художественная гимнастика                          15   496  "
      ]
     },
     "execution_count": 193,
     "metadata": {},
     "output_type": "execute_result"
    }
   ],
   "source": [
    "contingency = pd.crosstab(sub_df['section'], sub_df['address'])\n",
    "contingency['sum'] = contingency[list_sp[0]] + contingency[list_sp[1]]+contingency[list_sp[2]] + contingency[list_sp[3]] + contingency[list_sp[4]]+contingency[list_sp[5]] +  contingency[list_sp[6]] +  contingency[list_sp[7]]\n",
    "contingency = contingency[contingency['sum'] > 300]\n",
    "contingency"
   ]
  },
  {
   "cell_type": "code",
   "execution_count": 194,
   "metadata": {},
   "outputs": [
    {
     "data": {
      "text/plain": [
       "<AxesSubplot:xlabel='address', ylabel='section'>"
      ]
     },
     "execution_count": 194,
     "metadata": {},
     "output_type": "execute_result"
    },
    {
     "data": {
      "image/png": "[encoded data removed]",
      "text/plain": [
       "<Figure size 432x288 with 2 Axes>"
      ]
     },
     "metadata": {
      "needs_background": "light"
     },
     "output_type": "display_data"
    }
   ],
   "source": [
    "sns.heatmap(contingency.drop('sum',axis=1))"
   ]
  },
  {
   "cell_type": "markdown",
   "metadata": {},
   "source": [
    "На основе этих данных мы можем предположить, что база фехтования расположена в Россия, Московская обл.    Лобня, РОЦ \"Оз. Круглое\""
   ]
  },
  {
   "cell_type": "markdown",
   "metadata": {},
   "source": [
    "#### Тип соревнования"
   ]
  },
  {
   "cell_type": "code",
   "execution_count": 136,
   "metadata": {},
   "outputs": [
    {
     "data": {
      "text/plain": [
       "Учебно-тренировочный сбор                         10708\n",
       "Всероссийские соревнования                        10036\n",
       "Тренировочное мероприятие                          9613\n",
       "Международные соревнования                         8992\n",
       "Чемпионат россии                                   5615\n",
       "                                                  ...  \n",
       "Тм, чемпионат европы, кубок европы                    1\n",
       "Утс, первенство мира, кубок мира                      1\n",
       "Тм, чемпионат мира, международные соревнвоания        1\n",
       "Тм, чемпионат европы, международные                   1\n",
       "Спартакиада молодежи россии                           1\n",
       "Name: title, Length: 172, dtype: int64"
      ]
     },
     "execution_count": 136,
     "metadata": {},
     "output_type": "execute_result"
    }
   ],
   "source": [
    "df['title'].value_counts()"
   ]
  },
  {
   "cell_type": "code",
   "execution_count": 137,
   "metadata": {},
   "outputs": [
    {
     "name": "stderr",
     "output_type": "stream",
     "text": [
      "/Library/Frameworks/Python.framework/Versions/3.8/lib/python3.8/site-packages/seaborn/distributions.py:2557: FutureWarning: `distplot` is a deprecated function and will be removed in a future version. Please adapt your code to use either `displot` (a figure-level function with similar flexibility) or `histplot` (an axes-level function for histograms).\n",
      "  warnings.warn(msg, FutureWarning)\n"
     ]
    },
    {
     "data": {
      "text/plain": [
       "<AxesSubplot:xlabel='title'>"
      ]
     },
     "execution_count": 137,
     "metadata": {},
     "output_type": "execute_result"
    },
    {
     "data": {
      "image/png": "[encoded data removed]",
      "text/plain": [
       "<Figure size 432x288 with 1 Axes>"
      ]
     },
     "metadata": {
      "needs_background": "light"
     },
     "output_type": "display_data"
    }
   ],
   "source": [
    "sns.distplot(df['title'].value_counts(), kde=False)"
   ]
  },
  {
   "cell_type": "code",
   "execution_count": 138,
   "metadata": {},
   "outputs": [
    {
     "data": {
      "text/plain": [
       "Учебно-тренировочный сбор     10708\n",
       "Всероссийские соревнования    10036\n",
       "Тренировочное мероприятие      9613\n",
       "Международные соревнования     8992\n",
       "Чемпионат россии               5615\n",
       "Первенство россии              5270\n",
       "Кубок россии                   5023\n",
       "Name: title, dtype: int64"
      ]
     },
     "execution_count": 138,
     "metadata": {},
     "output_type": "execute_result"
    }
   ],
   "source": [
    "df['title'].value_counts()[df['title'].value_counts() > 4000]"
   ]
  },
  {
   "cell_type": "code",
   "execution_count": 139,
   "metadata": {},
   "outputs": [],
   "source": [
    "sub_df_1 = df[df['title'] == 'Учебно-тренировочный сбор']\n",
    "sub_df_2 = df[df['title'] == 'Всероссийские соревнования']\n",
    "sub_df_3 = df[df['title'] == 'Тренировочное мероприятие']\n",
    "sub_df_4 = df[df['title'] == 'Международные соревнования']\n",
    "sub_df_5 = df[df['title'] == 'Чемпионат россии']\n",
    "sub_df_6 = df[df['title'] == 'Первенство россии']\n",
    "sub_df_7 = df[df['title'] == 'Кубок россии']\n",
    "sub_df = pd.concat([sub_df_1, sub_df_2, sub_df_3, sub_df_4, sub_df_5, sub_df_6, sub_df_7])"
   ]
  },
  {
   "cell_type": "code",
   "execution_count": 140,
   "metadata": {},
   "outputs": [
    {
     "data": {
      "image/png": "[encoded data removed]",
      "text/plain": [
       "<Figure size 432x288 with 1 Axes>"
      ]
     },
     "metadata": {
      "needs_background": "light"
     },
     "output_type": "display_data"
    }
   ],
   "source": [
    "sns.boxplot(x=\"title\", y=\"participants\", data=sub_df, palette='rainbow');"
   ]
  },
  {
   "cell_type": "markdown",
   "metadata": {},
   "source": [
    "Наблюдается большое количество выбросов. Максимум на Всероссийских соревнованиях. "
   ]
  },
  {
   "cell_type": "code",
   "execution_count": 179,
   "metadata": {},
   "outputs": [
    {
     "data": {
      "text/html": [
       "<div>\n",
       "<style scoped>\n",
       "    .dataframe tbody tr th:only-of-type {\n",
       "        vertical-align: middle;\n",
       "    }\n",
       "\n",
       "    .dataframe tbody tr th {\n",
       "        vertical-align: top;\n",
       "    }\n",
       "\n",
       "    .dataframe thead th {\n",
       "        text-align: right;\n",
       "    }\n",
       "</style>\n",
       "<table border=\"1\" class=\"dataframe\">\n",
       "  <thead>\n",
       "    <tr style=\"text-align: right;\">\n",
       "      <th>title</th>\n",
       "      <th>Всероссийские соревнования</th>\n",
       "      <th>Кубок россии</th>\n",
       "      <th>Международные соревнования</th>\n",
       "      <th>Первенство россии</th>\n",
       "      <th>Тренировочное мероприятие</th>\n",
       "      <th>Учебно-тренировочный сбор</th>\n",
       "      <th>Чемпионат россии</th>\n",
       "      <th>sum</th>\n",
       "    </tr>\n",
       "    <tr>\n",
       "      <th>section</th>\n",
       "      <th></th>\n",
       "      <th></th>\n",
       "      <th></th>\n",
       "      <th></th>\n",
       "      <th></th>\n",
       "      <th></th>\n",
       "      <th></th>\n",
       "      <th></th>\n",
       "    </tr>\n",
       "  </thead>\n",
       "  <tbody>\n",
       "    <tr>\n",
       "      <th>Авиамодельный спорт</th>\n",
       "      <td>88</td>\n",
       "      <td>444</td>\n",
       "      <td>19</td>\n",
       "      <td>79</td>\n",
       "      <td>19</td>\n",
       "      <td>38</td>\n",
       "      <td>85</td>\n",
       "      <td>772</td>\n",
       "    </tr>\n",
       "    <tr>\n",
       "      <th>Автомобильный спорт</th>\n",
       "      <td>538</td>\n",
       "      <td>640</td>\n",
       "      <td>29</td>\n",
       "      <td>305</td>\n",
       "      <td>1</td>\n",
       "      <td>1</td>\n",
       "      <td>546</td>\n",
       "      <td>2060</td>\n",
       "    </tr>\n",
       "    <tr>\n",
       "      <th>Бадминтон</th>\n",
       "      <td>16</td>\n",
       "      <td>8</td>\n",
       "      <td>461</td>\n",
       "      <td>24</td>\n",
       "      <td>51</td>\n",
       "      <td>56</td>\n",
       "      <td>15</td>\n",
       "      <td>631</td>\n",
       "    </tr>\n",
       "    <tr>\n",
       "      <th>Баскетбол</th>\n",
       "      <td>121</td>\n",
       "      <td>39</td>\n",
       "      <td>240</td>\n",
       "      <td>96</td>\n",
       "      <td>220</td>\n",
       "      <td>234</td>\n",
       "      <td>40</td>\n",
       "      <td>990</td>\n",
       "    </tr>\n",
       "    <tr>\n",
       "      <th>Биатлон</th>\n",
       "      <td>131</td>\n",
       "      <td>71</td>\n",
       "      <td>5</td>\n",
       "      <td>96</td>\n",
       "      <td>225</td>\n",
       "      <td>242</td>\n",
       "      <td>52</td>\n",
       "      <td>822</td>\n",
       "    </tr>\n",
       "    <tr>\n",
       "      <th>Бокс</th>\n",
       "      <td>334</td>\n",
       "      <td>6</td>\n",
       "      <td>316</td>\n",
       "      <td>40</td>\n",
       "      <td>220</td>\n",
       "      <td>207</td>\n",
       "      <td>16</td>\n",
       "      <td>1139</td>\n",
       "    </tr>\n",
       "    <tr>\n",
       "      <th>Велоспорт-маунтинбайк</th>\n",
       "      <td>121</td>\n",
       "      <td>123</td>\n",
       "      <td>12</td>\n",
       "      <td>87</td>\n",
       "      <td>34</td>\n",
       "      <td>77</td>\n",
       "      <td>60</td>\n",
       "      <td>514</td>\n",
       "    </tr>\n",
       "    <tr>\n",
       "      <th>Велоспорт-шоссе</th>\n",
       "      <td>444</td>\n",
       "      <td>20</td>\n",
       "      <td>188</td>\n",
       "      <td>320</td>\n",
       "      <td>88</td>\n",
       "      <td>117</td>\n",
       "      <td>152</td>\n",
       "      <td>1329</td>\n",
       "    </tr>\n",
       "    <tr>\n",
       "      <th>Водное поло</th>\n",
       "      <td>12</td>\n",
       "      <td>24</td>\n",
       "      <td>184</td>\n",
       "      <td>84</td>\n",
       "      <td>149</td>\n",
       "      <td>177</td>\n",
       "      <td>34</td>\n",
       "      <td>664</td>\n",
       "    </tr>\n",
       "    <tr>\n",
       "      <th>Волейбол</th>\n",
       "      <td>1</td>\n",
       "      <td>42</td>\n",
       "      <td>317</td>\n",
       "      <td>95</td>\n",
       "      <td>201</td>\n",
       "      <td>227</td>\n",
       "      <td>113</td>\n",
       "      <td>996</td>\n",
       "    </tr>\n",
       "    <tr>\n",
       "      <th>Вольная борьба</th>\n",
       "      <td>332</td>\n",
       "      <td>9</td>\n",
       "      <td>179</td>\n",
       "      <td>30</td>\n",
       "      <td>0</td>\n",
       "      <td>194</td>\n",
       "      <td>16</td>\n",
       "      <td>760</td>\n",
       "    </tr>\n",
       "    <tr>\n",
       "      <th>Гандбол</th>\n",
       "      <td>75</td>\n",
       "      <td>35</td>\n",
       "      <td>177</td>\n",
       "      <td>68</td>\n",
       "      <td>159</td>\n",
       "      <td>190</td>\n",
       "      <td>51</td>\n",
       "      <td>755</td>\n",
       "    </tr>\n",
       "    <tr>\n",
       "      <th>Гребля на байдарках и каноэ</th>\n",
       "      <td>100</td>\n",
       "      <td>38</td>\n",
       "      <td>19</td>\n",
       "      <td>63</td>\n",
       "      <td>240</td>\n",
       "      <td>276</td>\n",
       "      <td>47</td>\n",
       "      <td>783</td>\n",
       "    </tr>\n",
       "    <tr>\n",
       "      <th>Греко-римская борьба</th>\n",
       "      <td>277</td>\n",
       "      <td>0</td>\n",
       "      <td>116</td>\n",
       "      <td>15</td>\n",
       "      <td>0</td>\n",
       "      <td>137</td>\n",
       "      <td>11</td>\n",
       "      <td>556</td>\n",
       "    </tr>\n",
       "    <tr>\n",
       "      <th>Дзюдо</th>\n",
       "      <td>407</td>\n",
       "      <td>8</td>\n",
       "      <td>131</td>\n",
       "      <td>41</td>\n",
       "      <td>341</td>\n",
       "      <td>439</td>\n",
       "      <td>18</td>\n",
       "      <td>1385</td>\n",
       "    </tr>\n",
       "    <tr>\n",
       "      <th>Конный спорт</th>\n",
       "      <td>111</td>\n",
       "      <td>48</td>\n",
       "      <td>615</td>\n",
       "      <td>53</td>\n",
       "      <td>20</td>\n",
       "      <td>75</td>\n",
       "      <td>76</td>\n",
       "      <td>998</td>\n",
       "    </tr>\n",
       "    <tr>\n",
       "      <th>Конькобежный спорт</th>\n",
       "      <td>35</td>\n",
       "      <td>72</td>\n",
       "      <td>5</td>\n",
       "      <td>34</td>\n",
       "      <td>197</td>\n",
       "      <td>232</td>\n",
       "      <td>29</td>\n",
       "      <td>604</td>\n",
       "    </tr>\n",
       "    <tr>\n",
       "      <th>Кёрлинг</th>\n",
       "      <td>18</td>\n",
       "      <td>28</td>\n",
       "      <td>143</td>\n",
       "      <td>19</td>\n",
       "      <td>185</td>\n",
       "      <td>96</td>\n",
       "      <td>37</td>\n",
       "      <td>526</td>\n",
       "    </tr>\n",
       "    <tr>\n",
       "      <th>Легкая атлетика</th>\n",
       "      <td>134</td>\n",
       "      <td>61</td>\n",
       "      <td>38</td>\n",
       "      <td>283</td>\n",
       "      <td>262</td>\n",
       "      <td>349</td>\n",
       "      <td>167</td>\n",
       "      <td>1294</td>\n",
       "    </tr>\n",
       "    <tr>\n",
       "      <th>Лыжные гонки</th>\n",
       "      <td>135</td>\n",
       "      <td>25</td>\n",
       "      <td>3</td>\n",
       "      <td>45</td>\n",
       "      <td>203</td>\n",
       "      <td>230</td>\n",
       "      <td>35</td>\n",
       "      <td>676</td>\n",
       "    </tr>\n",
       "    <tr>\n",
       "      <th>Мотоциклетный спорт</th>\n",
       "      <td>259</td>\n",
       "      <td>196</td>\n",
       "      <td>31</td>\n",
       "      <td>194</td>\n",
       "      <td>19</td>\n",
       "      <td>18</td>\n",
       "      <td>448</td>\n",
       "      <td>1165</td>\n",
       "    </tr>\n",
       "    <tr>\n",
       "      <th>Настольный теннис</th>\n",
       "      <td>107</td>\n",
       "      <td>7</td>\n",
       "      <td>201</td>\n",
       "      <td>25</td>\n",
       "      <td>96</td>\n",
       "      <td>141</td>\n",
       "      <td>13</td>\n",
       "      <td>590</td>\n",
       "    </tr>\n",
       "    <tr>\n",
       "      <th>Парусный спорт</th>\n",
       "      <td>211</td>\n",
       "      <td>108</td>\n",
       "      <td>156</td>\n",
       "      <td>52</td>\n",
       "      <td>265</td>\n",
       "      <td>156</td>\n",
       "      <td>105</td>\n",
       "      <td>1053</td>\n",
       "    </tr>\n",
       "    <tr>\n",
       "      <th>Пулевая стрельба</th>\n",
       "      <td>153</td>\n",
       "      <td>16</td>\n",
       "      <td>117</td>\n",
       "      <td>41</td>\n",
       "      <td>146</td>\n",
       "      <td>209</td>\n",
       "      <td>25</td>\n",
       "      <td>707</td>\n",
       "    </tr>\n",
       "    <tr>\n",
       "      <th>Самбо</th>\n",
       "      <td>466</td>\n",
       "      <td>12</td>\n",
       "      <td>79</td>\n",
       "      <td>63</td>\n",
       "      <td>133</td>\n",
       "      <td>118</td>\n",
       "      <td>34</td>\n",
       "      <td>905</td>\n",
       "    </tr>\n",
       "    <tr>\n",
       "      <th>Современное пятиборье</th>\n",
       "      <td>150</td>\n",
       "      <td>16</td>\n",
       "      <td>39</td>\n",
       "      <td>43</td>\n",
       "      <td>83</td>\n",
       "      <td>170</td>\n",
       "      <td>22</td>\n",
       "      <td>523</td>\n",
       "    </tr>\n",
       "    <tr>\n",
       "      <th>Спорт глухих</th>\n",
       "      <td>9</td>\n",
       "      <td>92</td>\n",
       "      <td>37</td>\n",
       "      <td>204</td>\n",
       "      <td>243</td>\n",
       "      <td>237</td>\n",
       "      <td>266</td>\n",
       "      <td>1088</td>\n",
       "    </tr>\n",
       "    <tr>\n",
       "      <th>Спорт лиц с поражением ОДА</th>\n",
       "      <td>56</td>\n",
       "      <td>94</td>\n",
       "      <td>359</td>\n",
       "      <td>127</td>\n",
       "      <td>530</td>\n",
       "      <td>382</td>\n",
       "      <td>289</td>\n",
       "      <td>1837</td>\n",
       "    </tr>\n",
       "    <tr>\n",
       "      <th>Спорт слепых</th>\n",
       "      <td>11</td>\n",
       "      <td>51</td>\n",
       "      <td>67</td>\n",
       "      <td>93</td>\n",
       "      <td>177</td>\n",
       "      <td>162</td>\n",
       "      <td>201</td>\n",
       "      <td>762</td>\n",
       "    </tr>\n",
       "    <tr>\n",
       "      <th>Спортивная борьба</th>\n",
       "      <td>311</td>\n",
       "      <td>13</td>\n",
       "      <td>230</td>\n",
       "      <td>35</td>\n",
       "      <td>277</td>\n",
       "      <td>0</td>\n",
       "      <td>24</td>\n",
       "      <td>890</td>\n",
       "    </tr>\n",
       "    <tr>\n",
       "      <th>Теннис</th>\n",
       "      <td>44</td>\n",
       "      <td>13</td>\n",
       "      <td>1018</td>\n",
       "      <td>62</td>\n",
       "      <td>138</td>\n",
       "      <td>156</td>\n",
       "      <td>17</td>\n",
       "      <td>1448</td>\n",
       "    </tr>\n",
       "    <tr>\n",
       "      <th>Триатлон</th>\n",
       "      <td>153</td>\n",
       "      <td>160</td>\n",
       "      <td>6</td>\n",
       "      <td>57</td>\n",
       "      <td>148</td>\n",
       "      <td>74</td>\n",
       "      <td>42</td>\n",
       "      <td>640</td>\n",
       "    </tr>\n",
       "    <tr>\n",
       "      <th>Тхэквондо</th>\n",
       "      <td>125</td>\n",
       "      <td>27</td>\n",
       "      <td>100</td>\n",
       "      <td>46</td>\n",
       "      <td>88</td>\n",
       "      <td>102</td>\n",
       "      <td>37</td>\n",
       "      <td>525</td>\n",
       "    </tr>\n",
       "    <tr>\n",
       "      <th>Тяжелая атлетика</th>\n",
       "      <td>88</td>\n",
       "      <td>7</td>\n",
       "      <td>5</td>\n",
       "      <td>30</td>\n",
       "      <td>161</td>\n",
       "      <td>238</td>\n",
       "      <td>8</td>\n",
       "      <td>537</td>\n",
       "    </tr>\n",
       "    <tr>\n",
       "      <th>Фехтование</th>\n",
       "      <td>169</td>\n",
       "      <td>8</td>\n",
       "      <td>149</td>\n",
       "      <td>28</td>\n",
       "      <td>478</td>\n",
       "      <td>559</td>\n",
       "      <td>10</td>\n",
       "      <td>1401</td>\n",
       "    </tr>\n",
       "    <tr>\n",
       "      <th>Фигурное катание на коньках</th>\n",
       "      <td>67</td>\n",
       "      <td>52</td>\n",
       "      <td>49</td>\n",
       "      <td>32</td>\n",
       "      <td>177</td>\n",
       "      <td>170</td>\n",
       "      <td>18</td>\n",
       "      <td>565</td>\n",
       "    </tr>\n",
       "    <tr>\n",
       "      <th>Фристайл</th>\n",
       "      <td>50</td>\n",
       "      <td>87</td>\n",
       "      <td>1</td>\n",
       "      <td>31</td>\n",
       "      <td>162</td>\n",
       "      <td>192</td>\n",
       "      <td>16</td>\n",
       "      <td>539</td>\n",
       "    </tr>\n",
       "    <tr>\n",
       "      <th>Футбол</th>\n",
       "      <td>226</td>\n",
       "      <td>58</td>\n",
       "      <td>362</td>\n",
       "      <td>65</td>\n",
       "      <td>199</td>\n",
       "      <td>346</td>\n",
       "      <td>61</td>\n",
       "      <td>1317</td>\n",
       "    </tr>\n",
       "    <tr>\n",
       "      <th>Хоккей</th>\n",
       "      <td>73</td>\n",
       "      <td>0</td>\n",
       "      <td>283</td>\n",
       "      <td>78</td>\n",
       "      <td>167</td>\n",
       "      <td>187</td>\n",
       "      <td>33</td>\n",
       "      <td>821</td>\n",
       "    </tr>\n",
       "    <tr>\n",
       "      <th>Художественная гимнастика</th>\n",
       "      <td>184</td>\n",
       "      <td>8</td>\n",
       "      <td>208</td>\n",
       "      <td>16</td>\n",
       "      <td>252</td>\n",
       "      <td>260</td>\n",
       "      <td>15</td>\n",
       "      <td>943</td>\n",
       "    </tr>\n",
       "  </tbody>\n",
       "</table>\n",
       "</div>"
      ],
      "text/plain": [
       "title                        Всероссийские соревнования  Кубок россии  \\\n",
       "section                                                                 \n",
       "Авиамодельный спорт                                  88           444   \n",
       "Автомобильный спорт                                 538           640   \n",
       "Бадминтон                                            16             8   \n",
       "Баскетбол                                           121            39   \n",
       "Биатлон                                             131            71   \n",
       "Бокс                                                334             6   \n",
       "Велоспорт-маунтинбайк                               121           123   \n",
       "Велоспорт-шоссе                                     444            20   \n",
       "Водное поло                                          12            24   \n",
       "Волейбол                                              1            42   \n",
       "Вольная борьба                                      332             9   \n",
       "Гандбол                                              75            35   \n",
       "Гребля на байдарках и каноэ                         100            38   \n",
       "Греко-римская борьба                                277             0   \n",
       "Дзюдо                                               407             8   \n",
       "Конный спорт                                        111            48   \n",
       "Конькобежный спорт                                   35            72   \n",
       "Кёрлинг                                              18            28   \n",
       "Легкая атлетика                                     134            61   \n",
       "Лыжные гонки                                        135            25   \n",
       "Мотоциклетный спорт                                 259           196   \n",
       "Настольный теннис                                   107             7   \n",
       "Парусный спорт                                      211           108   \n",
       "Пулевая стрельба                                    153            16   \n",
       "Самбо                                               466            12   \n",
       "Современное пятиборье                               150            16   \n",
       "Спорт глухих                                          9            92   \n",
       "Спорт лиц с поражением ОДА                           56            94   \n",
       "Спорт слепых                                         11            51   \n",
       "Спортивная борьба                                   311            13   \n",
       "Теннис                                               44            13   \n",
       "Триатлон                                            153           160   \n",
       "Тхэквондо                                           125            27   \n",
       "Тяжелая атлетика                                     88             7   \n",
       "Фехтование                                          169             8   \n",
       "Фигурное катание на коньках                          67            52   \n",
       "Фристайл                                             50            87   \n",
       "Футбол                                              226            58   \n",
       "Хоккей                                               73             0   \n",
       "Художественная гимнастика                           184             8   \n",
       "\n",
       "title                        Международные соревнования  Первенство россии  \\\n",
       "section                                                                      \n",
       "Авиамодельный спорт                                  19                 79   \n",
       "Автомобильный спорт                                  29                305   \n",
       "Бадминтон                                           461                 24   \n",
       "Баскетбол                                           240                 96   \n",
       "Биатлон                                               5                 96   \n",
       "Бокс                                                316                 40   \n",
       "Велоспорт-маунтинбайк                                12                 87   \n",
       "Велоспорт-шоссе                                     188                320   \n",
       "Водное поло                                         184                 84   \n",
       "Волейбол                                            317                 95   \n",
       "Вольная борьба                                      179                 30   \n",
       "Гандбол                                             177                 68   \n",
       "Гребля на байдарках и каноэ                          19                 63   \n",
       "Греко-римская борьба                                116                 15   \n",
       "Дзюдо                                               131                 41   \n",
       "Конный спорт                                        615                 53   \n",
       "Конькобежный спорт                                    5                 34   \n",
       "Кёрлинг                                             143                 19   \n",
       "Легкая атлетика                                      38                283   \n",
       "Лыжные гонки                                          3                 45   \n",
       "Мотоциклетный спорт                                  31                194   \n",
       "Настольный теннис                                   201                 25   \n",
       "Парусный спорт                                      156                 52   \n",
       "Пулевая стрельба                                    117                 41   \n",
       "Самбо                                                79                 63   \n",
       "Современное пятиборье                                39                 43   \n",
       "Спорт глухих                                         37                204   \n",
       "Спорт лиц с поражением ОДА                          359                127   \n",
       "Спорт слепых                                         67                 93   \n",
       "Спортивная борьба                                   230                 35   \n",
       "Теннис                                             1018                 62   \n",
       "Триатлон                                              6                 57   \n",
       "Тхэквондо                                           100                 46   \n",
       "Тяжелая атлетика                                      5                 30   \n",
       "Фехтование                                          149                 28   \n",
       "Фигурное катание на коньках                          49                 32   \n",
       "Фристайл                                              1                 31   \n",
       "Футбол                                              362                 65   \n",
       "Хоккей                                              283                 78   \n",
       "Художественная гимнастика                           208                 16   \n",
       "\n",
       "title                        Тренировочное мероприятие  \\\n",
       "section                                                  \n",
       "Авиамодельный спорт                                 19   \n",
       "Автомобильный спорт                                  1   \n",
       "Бадминтон                                           51   \n",
       "Баскетбол                                          220   \n",
       "Биатлон                                            225   \n",
       "Бокс                                               220   \n",
       "Велоспорт-маунтинбайк                               34   \n",
       "Велоспорт-шоссе                                     88   \n",
       "Водное поло                                        149   \n",
       "Волейбол                                           201   \n",
       "Вольная борьба                                       0   \n",
       "Гандбол                                            159   \n",
       "Гребля на байдарках и каноэ                        240   \n",
       "Греко-римская борьба                                 0   \n",
       "Дзюдо                                              341   \n",
       "Конный спорт                                        20   \n",
       "Конькобежный спорт                                 197   \n",
       "Кёрлинг                                            185   \n",
       "Легкая атлетика                                    262   \n",
       "Лыжные гонки                                       203   \n",
       "Мотоциклетный спорт                                 19   \n",
       "Настольный теннис                                   96   \n",
       "Парусный спорт                                     265   \n",
       "Пулевая стрельба                                   146   \n",
       "Самбо                                              133   \n",
       "Современное пятиборье                               83   \n",
       "Спорт глухих                                       243   \n",
       "Спорт лиц с поражением ОДА                         530   \n",
       "Спорт слепых                                       177   \n",
       "Спортивная борьба                                  277   \n",
       "Теннис                                             138   \n",
       "Триатлон                                           148   \n",
       "Тхэквондо                                           88   \n",
       "Тяжелая атлетика                                   161   \n",
       "Фехтование                                         478   \n",
       "Фигурное катание на коньках                        177   \n",
       "Фристайл                                           162   \n",
       "Футбол                                             199   \n",
       "Хоккей                                             167   \n",
       "Художественная гимнастика                          252   \n",
       "\n",
       "title                        Учебно-тренировочный сбор  Чемпионат россии   sum  \n",
       "section                                                                         \n",
       "Авиамодельный спорт                                 38                85   772  \n",
       "Автомобильный спорт                                  1               546  2060  \n",
       "Бадминтон                                           56                15   631  \n",
       "Баскетбол                                          234                40   990  \n",
       "Биатлон                                            242                52   822  \n",
       "Бокс                                               207                16  1139  \n",
       "Велоспорт-маунтинбайк                               77                60   514  \n",
       "Велоспорт-шоссе                                    117               152  1329  \n",
       "Водное поло                                        177                34   664  \n",
       "Волейбол                                           227               113   996  \n",
       "Вольная борьба                                     194                16   760  \n",
       "Гандбол                                            190                51   755  \n",
       "Гребля на байдарках и каноэ                        276                47   783  \n",
       "Греко-римская борьба                               137                11   556  \n",
       "Дзюдо                                              439                18  1385  \n",
       "Конный спорт                                        75                76   998  \n",
       "Конькобежный спорт                                 232                29   604  \n",
       "Кёрлинг                                             96                37   526  \n",
       "Легкая атлетика                                    349               167  1294  \n",
       "Лыжные гонки                                       230                35   676  \n",
       "Мотоциклетный спорт                                 18               448  1165  \n",
       "Настольный теннис                                  141                13   590  \n",
       "Парусный спорт                                     156               105  1053  \n",
       "Пулевая стрельба                                   209                25   707  \n",
       "Самбо                                              118                34   905  \n",
       "Современное пятиборье                              170                22   523  \n",
       "Спорт глухих                                       237               266  1088  \n",
       "Спорт лиц с поражением ОДА                         382               289  1837  \n",
       "Спорт слепых                                       162               201   762  \n",
       "Спортивная борьба                                    0                24   890  \n",
       "Теннис                                             156                17  1448  \n",
       "Триатлон                                            74                42   640  \n",
       "Тхэквондо                                          102                37   525  \n",
       "Тяжелая атлетика                                   238                 8   537  \n",
       "Фехтование                                         559                10  1401  \n",
       "Фигурное катание на коньках                        170                18   565  \n",
       "Фристайл                                           192                16   539  \n",
       "Футбол                                             346                61  1317  \n",
       "Хоккей                                             187                33   821  \n",
       "Художественная гимнастика                          260                15   943  "
      ]
     },
     "execution_count": 179,
     "metadata": {},
     "output_type": "execute_result"
    }
   ],
   "source": [
    "contingency = pd.crosstab(sub_df['section'], sub_df['title'])\n",
    "# contingency.columns.values\n",
    "contingency['sum'] = contingency['Учебно-тренировочный сбор'] + contingency['Всероссийские соревнования']+contingency['Тренировочное мероприятие'] + contingency['Международные соревнования'] + contingency['Чемпионат россии']+contingency['Первенство россии'] +  contingency['Кубок россии']\n",
    "contingency = contingency[contingency['sum'] > 500]"
   ]
  },
  {
   "cell_type": "code",
   "execution_count": 182,
   "metadata": {},
   "outputs": [
    {
     "data": {
      "text/plain": [
       "<AxesSubplot:xlabel='title', ylabel='section'>"
      ]
     },
     "execution_count": 182,
     "metadata": {},
     "output_type": "execute_result"
    },
    {
     "data": {
      "image/png": "[encoded data removed]",
      "text/plain": [
       "<Figure size 432x288 with 2 Axes>"
      ]
     },
     "metadata": {
      "needs_background": "light"
     },
     "output_type": "display_data"
    }
   ],
   "source": [
    "sns.heatmap(contingency.drop('sum',axis=1))"
   ]
  },
  {
   "cell_type": "markdown",
   "metadata": {},
   "source": [
    "На основе этих данных можно предположить, что по тяжелой атлетике проводится больше всего международных соревнований"
   ]
  },
  {
   "cell_type": "markdown",
   "metadata": {},
   "source": [
    "#### Описание соревнований"
   ]
  },
  {
   "cell_type": "code",
   "execution_count": 183,
   "metadata": {},
   "outputs": [
    {
     "data": {
      "text/plain": [
       "-                                                       18219\n",
       "вольная борьба                                            675\n",
       "шпага                                                     632\n",
       "рапира                                                    573\n",
       "пляжный                                                   523\n",
       "                                                        ...  \n",
       "точность приземления - личная, групповая                    1\n",
       "по положению о соревнвоаниях                                1\n",
       "кросс-кантри, гонка с выбыванием                            1\n",
       "кросс «Д3-250»  2 этап                                      1\n",
       "трофи-рейд \"ТР1\", \"ТР2\", \"ТР3\", \"абсолютный\"  6 этап        1\n",
       "Name: description, Length: 9574, dtype: int64"
      ]
     },
     "execution_count": 183,
     "metadata": {},
     "output_type": "execute_result"
    }
   ],
   "source": [
    "df['description'].value_counts()"
   ]
  },
  {
   "cell_type": "code",
   "execution_count": 195,
   "metadata": {},
   "outputs": [
    {
     "name": "stderr",
     "output_type": "stream",
     "text": [
      "/Library/Frameworks/Python.framework/Versions/3.8/lib/python3.8/site-packages/seaborn/distributions.py:2557: FutureWarning: `distplot` is a deprecated function and will be removed in a future version. Please adapt your code to use either `displot` (a figure-level function with similar flexibility) or `histplot` (an axes-level function for histograms).\n",
      "  warnings.warn(msg, FutureWarning)\n"
     ]
    },
    {
     "data": {
      "text/plain": [
       "<AxesSubplot:xlabel='description'>"
      ]
     },
     "execution_count": 195,
     "metadata": {},
     "output_type": "execute_result"
    },
    {
     "data": {
      "image/png": "[encoded data removed]",
      "text/plain": [
       "<Figure size 432x288 with 1 Axes>"
      ]
     },
     "metadata": {
      "needs_background": "light"
     },
     "output_type": "display_data"
    }
   ],
   "source": [
    "sns.distplot(df['description'].value_counts()[1:], kde=False)"
   ]
  },
  {
   "cell_type": "markdown",
   "metadata": {},
   "source": [
    "Описания почти все разные, смысла искать в этом что-то нету."
   ]
  },
  {
   "cell_type": "code",
   "execution_count": null,
   "metadata": {},
   "outputs": [],
   "source": []
  }
 ],
 "metadata": {
  "kernelspec": {
   "display_name": "Python 3",
   "language": "python",
   "name": "python3"
  },
  "language_info": {
   "codemirror_mode": {
    "name": "ipython",
    "version": 3
   },
   "file_extension": ".py",
   "mimetype": "text/x-python",
   "name": "python",
   "nbconvert_exporter": "python",
   "pygments_lexer": "ipython3",
   "version": "3.8.2"
  }
 },
 "nbformat": 4,
 "nbformat_minor": 2
}
